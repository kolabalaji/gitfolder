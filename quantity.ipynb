{
 "cells": [
  {
   "cell_type": "code",
   "execution_count": 2,
   "metadata": {},
   "outputs": [
    {
     "name": "stdout",
     "output_type": "stream",
     "text": [
      "19.9\n"
     ]
    }
   ],
   "source": [
    "#This is first program \n",
    "#This variable contains an integer\n",
    "quantity = 10\n",
    "#This variable contains a float\n",
    "unit_price = 1.99\n",
    "# This variable contains the multiple of quanity with unit price\n",
    "extended_price =  quantity * unit_price\n",
    "# Show me some results on the screen \n",
    "print(extended_price)\n"
   ]
  },
  {
   "cell_type": "code",
   "execution_count": 17,
   "metadata": {},
   "outputs": [
    {
     "name": "stdout",
     "output_type": "stream",
     "text": [
      "x is  11\n",
      "All Done\n"
     ]
    }
   ],
   "source": [
    "x = 11\n",
    "if x == 0:\n",
    "    print(\"X is Zero\")\n",
    "else:\n",
    "    print(\"x is \",x)\n",
    "print(\"All Done\") \n"
   ]
  },
  {
   "cell_type": "code",
   "execution_count": 8,
   "metadata": {},
   "outputs": [
    {
     "name": "stdout",
     "output_type": "stream",
     "text": [
      "-4\n",
      "4\n"
     ]
    }
   ],
   "source": [
    "x = -4\n",
    "y = abs(x)\n",
    "print(x) \n",
    "print(y)"
   ]
  },
  {
   "cell_type": "code",
   "execution_count": 9,
   "metadata": {},
   "outputs": [
    {
     "name": "stdout",
     "output_type": "stream",
     "text": [
      "232.232323\n",
      "232.23\n"
     ]
    }
   ],
   "source": [
    "x = 232.232323\n",
    "y = round(x,2)\n",
    "print(x)\n",
    "print(y)"
   ]
  },
  {
   "cell_type": "code",
   "execution_count": 15,
   "metadata": {},
   "outputs": [
    {
     "name": "stdout",
     "output_type": "stream",
     "text": [
      "5\n",
      "20\n",
      "<class 'int'>\n",
      "<class 'str'>\n"
     ]
    }
   ],
   "source": [
    "x = 10\n",
    "y = 20\n",
    "z = 5\n",
    "a = 'Balaji'\n",
    "print(min(x,y,z))\n",
    "print(max(x,y,x))\n",
    "print(type(x))\n",
    "print(type(a))"
   ]
  },
  {
   "cell_type": "code",
   "execution_count": 16,
   "metadata": {},
   "outputs": [
    {
     "name": "stdout",
     "output_type": "stream",
     "text": [
      "Hello Sujatha\n"
     ]
    }
   ],
   "source": [
    "name = 'Sujatha'\n",
    "print(f\"Hello {name}\")"
   ]
  },
  {
   "cell_type": "code",
   "execution_count": 27,
   "metadata": {},
   "outputs": [
    {
     "name": "stdout",
     "output_type": "stream",
     "text": [
      "Subtotal: $149.70\n"
     ]
    }
   ],
   "source": [
    "quantity = 30\n",
    "unit_price = 4.99\n",
    "print(f\"Subtotal: ${quantity*unit_price:,.2f}\")\n",
    "\n"
   ]
  },
  {
   "cell_type": "code",
   "execution_count": 10,
   "metadata": {},
   "outputs": [
    {
     "name": "stdout",
     "output_type": "stream",
     "text": [
      "Balaji\n",
      "Sujatha\n",
      "Dhanalaxmi\n",
      "Aashuthosh Shreejan Kumar\n"
     ]
    }
   ],
   "source": [
    "user_name = 'Balaji'\n",
    "wife_name = 'Sujatha'\n",
    "mother_name = 'Dhanalaxmi'\n",
    "son_name = 'Aashuthosh Shreejan Kumar'\n",
    "output=f\"\"\"{user_name}\n",
    "{wife_name}\n",
    "{mother_name}\n",
    "{son_name}\"\"\"\n",
    "print(output)"
   ]
  },
  {
   "cell_type": "code",
   "execution_count": 15,
   "metadata": {},
   "outputs": [
    {
     "name": "stdout",
     "output_type": "stream",
     "text": [
      "360\n",
      "23.400000000000002\n",
      "383.4\n",
      "$f{sub_total:,.2f}\n",
      "$f{sales_tax:,.2f}\n",
      "$f{total:,.2f}\n",
      "f\n",
      "Subtotal: {s_sub_total:<9}\n",
      "Sales Tax: {s_sales_tax:<9}\n",
      "Total: {s_total:<9}\n",
      "\n"
     ]
    }
   ],
   "source": [
    "# Numeric Values\n",
    "\n",
    "unit_price = 12\n",
    "quantity = 30\n",
    "sales_tax_rate = 0.065\n",
    "sub_total = unit_price * quantity\n",
    "sales_tax = sub_total * 0.065\n",
    "total =  sub_total + sales_tax\n",
    "\n",
    "print(sub_total)\n",
    "print(sales_tax)\n",
    "print(total)\n",
    "\n",
    "# Format amounts to show with dollar sign\n",
    "\n",
    "s_sub_total = \"$\" + \"f{sub_total:,.2f}\"\n",
    "s_sales_tax = \"$\" + \"f{sales_tax:,.2f}\"\n",
    "s_total = \"$\" + \"f{total:,.2f}\"\n",
    "\n",
    "print(f\"Sub_total:{s_sub_total}\")\n",
    "print(f\"s_sales_tax:)\n",
    "print(s_total)\n",
    "\n",
    "# Output of the string its already attached\n",
    "\n",
    "output = \"\"\"f\n",
    "Subtotal: {s_sub_total:<9}\n",
    "Sales Tax: {s_sales_tax:<9}\n",
    "Total: {s_total:<9}\n",
    "\"\"\"\n",
    "\n",
    "print(output)"
   ]
  },
  {
   "cell_type": "code",
   "execution_count": 28,
   "metadata": {},
   "outputs": [
    {
     "name": "stdout",
     "output_type": "stream",
     "text": [
      "Today Date: 2021-06-14\n",
      "Marriage: Friday, March 09, 2012\n",
      "\n",
      "Marriage Day: 9\n",
      "Marriage Month: 3\n",
      "Marriage Year : 2012\n",
      "2021-06-14 21:20:27.406023\n"
     ]
    }
   ],
   "source": [
    "# Import datetime module nicknames as dt\n",
    "import datetime as dt\n",
    "\n",
    "# Store today date in today variable\n",
    "today = dt.date.today()\n",
    "\n",
    "# Store your marriage date in marriage_date variable\n",
    "marriage_date = dt.date(2012,3,9)\n",
    "\n",
    "# See what's in today and marriage_date variables and to get marriage date in year month and day\n",
    "print(f\"Today Date: {today}\")\n",
    "print(f\"Marriage: {marriage_date:%A, %B %d, %Y}\\n\")\n",
    "\n",
    "\n",
    "# Verifying date objects methods\n",
    "print(f\"Marriage Day: {marriage_date.day}\")\n",
    "print(f\"Marriage Month: {marriage_date.month}\")\n",
    "print(f\"Marriage Year : {marriage_date.year}\")\n",
    "\n",
    "# Adding present time in mytime variable\n",
    "mytime = dt.datetime.now()\n",
    "print(mytime)\n"
   ]
  },
  {
   "cell_type": "code",
   "execution_count": 4,
   "metadata": {},
   "outputs": [
    {
     "name": "stdout",
     "output_type": "stream",
     "text": [
      "Enter which table you required:\n",
      "12\n",
      "OK. You are looking for: 12 table. Here it is\n",
      "12*1=12\n",
      "12*2=24\n",
      "12*3=36\n",
      "12*4=48\n",
      "12*5=60\n",
      "12*6=72\n",
      "12*7=84\n",
      "12*8=96\n",
      "12*9=108\n",
      "12*10=120\n",
      "12*11=132\n",
      "12*12=144\n",
      "12*13=156\n",
      "12*14=168\n",
      "12*15=180\n",
      "12*16=192\n",
      "12*17=204\n",
      "12*18=216\n",
      "12*19=228\n",
      "12*20=240\n"
     ]
    }
   ],
   "source": [
    "# Enter which table you looking for\n",
    "print('Enter which table you required:')\n",
    "\n",
    "# Enter integer value for multiplication\n",
    "table_number = input()\n",
    "\n",
    "# Converting input value to integer\n",
    "tb_number = int(table_number)\n",
    "\n",
    "print(f\"OK. You are looking for: {tb_number} table. Here it is\")\n",
    "# Print table with required multiplcation table\n",
    "for x in range(1,21):\n",
    "    print(f\"{table_number}*{x}={tb_number*x}\")"
   ]
  },
  {
   "cell_type": "code",
   "execution_count": null,
   "metadata": {},
   "outputs": [],
   "source": []
  }
 ],
 "metadata": {
  "kernelspec": {
   "display_name": "Python 3",
   "language": "python",
   "name": "python3"
  },
  "language_info": {
   "codemirror_mode": {
    "name": "ipython",
    "version": 3
   },
   "file_extension": ".py",
   "mimetype": "text/x-python",
   "name": "python",
   "nbconvert_exporter": "python",
   "pygments_lexer": "ipython3",
   "version": "3.7.10"
  }
 },
 "nbformat": 4,
 "nbformat_minor": 4
}
