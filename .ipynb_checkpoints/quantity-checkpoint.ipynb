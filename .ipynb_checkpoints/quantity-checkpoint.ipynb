{
 "cells": [
  {
   "cell_type": "code",
   "execution_count": 9,
   "metadata": {},
   "outputs": [
    {
     "name": "stdout",
     "output_type": "stream",
     "text": "19.9\n"
    }
   ],
   "source": [
    "#This is first program \n",
    "#This variable contains an integer\n",
    "quantity = 10\n",
    "#This variable contains a float\n",
    "unit_price = 1.99\n",
    "# This variable contains the multiple of quanity with unit price\n",
    "extended_price =  quantity * unit_price\n",
    "# Show me some results on the screen \n",
    "print(extended_price)\n"
   ]
  },
  {
   "cell_type": "code",
   "execution_count": 10,
   "metadata": {},
   "outputs": [
    {
     "name": "stdout",
     "output_type": "stream",
     "text": "x is  11\nAll Done\n"
    }
   ],
   "source": [
    "x = 11\n",
    "if x == 0:\n",
    "    print(\"X is Zero\")\n",
    "else:\n",
    "    print(\"x is \",x)\n",
    "print(\"All Done\") \n"
   ]
  },
  {
   "cell_type": "code",
   "execution_count": 11,
   "metadata": {},
   "outputs": [
    {
     "name": "stdout",
     "output_type": "stream",
     "text": "-4\n4\n"
    }
   ],
   "source": [
    "x = -4\n",
    "y = abs(x)\n",
    "print(x) \n",
    "print(y)"
   ]
  },
  {
   "cell_type": "code",
   "execution_count": 12,
   "metadata": {},
   "outputs": [
    {
     "name": "stdout",
     "output_type": "stream",
     "text": "232.232323\n232.23\n"
    }
   ],
   "source": [
    "x = 232.232323\n",
    "y = round(x,2)\n",
    "print(x)\n",
    "print(y)"
   ]
  },
  {
   "cell_type": "code",
   "execution_count": 13,
   "metadata": {},
   "outputs": [
    {
     "name": "stdout",
     "output_type": "stream",
     "text": "5\n20\n<class 'int'>\n<class 'str'>\n"
    }
   ],
   "source": [
    "x = 10\n",
    "y = 20\n",
    "z = 5\n",
    "a = 'Balaji'\n",
    "print(min(x,y,z))\n",
    "print(max(x,y,x))\n",
    "print(type(x))\n",
    "print(type(a))"
   ]
  },
  {
   "cell_type": "code",
   "execution_count": 14,
   "metadata": {},
   "outputs": [
    {
     "name": "stdout",
     "output_type": "stream",
     "text": "Hello Sujatha\n"
    }
   ],
   "source": [
    "name = 'Sujatha'\n",
    "print(f\"Hello {name}\")"
   ]
  },
  {
   "cell_type": "code",
   "execution_count": 15,
   "metadata": {},
   "outputs": [
    {
     "name": "stdout",
     "output_type": "stream",
     "text": "Subtotal: $149.70\n"
    }
   ],
   "source": [
    "quantity = 30\n",
    "unit_price = 4.99\n",
    "print(f\"Subtotal: ${quantity*unit_price:,.2f}\")\n",
    "\n"
   ]
  },
  {
   "cell_type": "code",
   "execution_count": 16,
   "metadata": {},
   "outputs": [
    {
     "name": "stdout",
     "output_type": "stream",
     "text": "Balaji\nSujatha\nDhanalaxmi\nAashuthosh Shreejan Kumar\n"
    }
   ],
   "source": [
    "user_name = 'Balaji'\n",
    "wife_name = 'Sujatha'\n",
    "mother_name = 'Dhanalaxmi'\n",
    "son_name = 'Aashuthosh Shreejan Kumar'\n",
    "output=f\"\"\"{user_name}\n",
    "{wife_name}\n",
    "{mother_name}\n",
    "{son_name}\"\"\"\n",
    "print(output)"
   ]
  },
  {
   "cell_type": "code",
   "execution_count": 17,
   "metadata": {},
   "outputs": [
    {
     "ename": "SyntaxError",
     "evalue": "EOL while scanning string literal (<ipython-input-17-6a78ea4f6af0>, line 21)",
     "output_type": "error",
     "traceback": [
      "\u001b[0;36m  File \u001b[0;32m\"<ipython-input-17-6a78ea4f6af0>\"\u001b[0;36m, line \u001b[0;32m21\u001b[0m\n\u001b[0;31m    print(f\"s_sales_tax:)\u001b[0m\n\u001b[0m                         ^\u001b[0m\n\u001b[0;31mSyntaxError\u001b[0m\u001b[0;31m:\u001b[0m EOL while scanning string literal\n"
     ]
    }
   ],
   "source": [
    "# Numeric Values\n",
    "\n",
    "unit_price = 12\n",
    "quantity = 30\n",
    "sales_tax_rate = 0.065\n",
    "sub_total = unit_price * quantity\n",
    "sales_tax = sub_total * 0.065\n",
    "total =  sub_total + sales_tax\n",
    "\n",
    "print(sub_total)\n",
    "print(sales_tax)\n",
    "print(total)\n",
    "\n",
    "# Format amounts to show with dollar sign\n",
    "\n",
    "s_sub_total = \"$\" + \"f{sub_total:,.2f}\"\n",
    "s_sales_tax = \"$\" + \"f{sales_tax:,.2f}\"\n",
    "s_total = \"$\" + \"f{total:,.2f}\"\n",
    "\n",
    "print(f\"Sub_total:{s_sub_total}\")\n",
    "print(f\"s_sales_tax:)\n",
    "print(s_total)\n",
    "\n",
    "# Output of the string its already attached\n",
    "\n",
    "output = \"\"\"f\n",
    "Subtotal: {s_sub_total:<9}\n",
    "Sales Tax: {s_sales_tax:<9}\n",
    "Total: {s_total:<9}\n",
    "\"\"\"\n",
    "\n",
    "print(output)"
   ]
  },
  {
   "cell_type": "code",
   "execution_count": null,
   "metadata": {},
   "outputs": [],
   "source": [
    "# Import datetime module nicknames as dt\n",
    "import datetime as dt\n",
    "\n",
    "# Store today date in today variable\n",
    "today = dt.date.today()\n",
    "\n",
    "# Store your marriage date in marriage_date variable\n",
    "marriage_date = dt.date(2012,3,9)\n",
    "\n",
    "# See what's in today and marriage_date variables and to get marriage date in year month and day\n",
    "print(f\"Today Date: {today}\")\n",
    "print(f\"Marriage: {marriage_date:%A, %B %d, %Y}\\n\")\n",
    "\n",
    "\n",
    "# Verifying date objects methods\n",
    "print(f\"Marriage Day: {marriage_date.day}\")\n",
    "print(f\"Marriage Month: {marriage_date.month}\")\n",
    "print(f\"Marriage Year : {marriage_date.year}\")\n",
    "\n",
    "# Adding present time in mytime variable\n",
    "mytime = dt.datetime.now()\n",
    "print(mytime)\n"
   ]
  },
  {
   "cell_type": "code",
   "execution_count": null,
   "metadata": {},
   "outputs": [],
   "source": [
    "# Enter which table you looking for\n",
    "print('Enter which table you required:')\n",
    "\n",
    "# Enter integer value for multiplication\n",
    "table_number = input()\n",
    "\n",
    "# Converting input value to integer\n",
    "tb_number = int(table_number)\n",
    "\n",
    "# Print table with required multiplcation table\n",
    "for x in range(1,11):\n",
    "    print(f\"{table_number}*{x}={tb_number*x}\")"
   ]
  },
  {
   "cell_type": "code",
   "execution_count": null,
   "metadata": {},
   "outputs": [],
   "source": [
    "print('Hello Visual code')\n"
   ]
  },
  {
   "cell_type": "code",
   "execution_count": null,
   "metadata": {},
   "outputs": [],
   "source": [
    "# outer loop\n",
    "for outer in ['First:','Second:','Third:']:\n",
    "    print(outer)\n",
    "# Inner loop\n",
    "    for inner in range(3):\n",
    "        print(inner+1)\n",
    "\n",
    "\n",
    "print('Both loops are done')\n",
    "\n"
   ]
  },
  {
   "cell_type": "code",
   "execution_count": null,
   "metadata": {},
   "outputs": [],
   "source": [
    "# Print ASCII characters\n",
    "\n",
    "counter = 65\n",
    "while counter < 91:\n",
    "    print(str(counter) + \"=\" + chr(counter))\n",
    "    counter +=1\n",
    "print(\"All Done!\")\n"
   ]
  },
  {
   "cell_type": "code",
   "execution_count": null,
   "metadata": {},
   "outputs": [],
   "source": [
    "# Defining the list\n",
    "names = ['Balaji','Sujatha','Dhanalaxmi','Aashuthosh Shreejan Kumar']\n",
    "for name in names:\n",
    "    print(name)"
   ]
  },
  {
   "cell_type": "code",
   "execution_count": null,
   "metadata": {},
   "outputs": [],
   "source": [
    "# Defining scores \n",
    "scores = [89,98,87,78,65,66,77,89]\n",
    "for score in scores:\n",
    "    print(score)\n",
    "\n",
    "print('Done')"
   ]
  },
  {
   "cell_type": "code",
   "execution_count": null,
   "metadata": {},
   "outputs": [],
   "source": [
    "\n",
    "pi =  3.1415926544343\n",
    "x = 128\n",
    "y = -345.67899992\n",
    "z = -999.99999\n",
    "print(abs(z))\n",
    "print(int(z))\n",
    "print(int(abs(x)))\n",
    "print(round(pi,4))\n",
    "print(bin(x))\n",
    "print(hex(x))\n",
    "print(oct(x))\n",
    "\n",
    "print(max(pi,x,y,x))\n",
    "print(min(pi,x,y,x))\n",
    "print(type(pi))\n",
    "print(type(x))\n",
    "print(type(str(y)))\n",
    "\n",
    "\n",
    "\n"
   ]
  },
  {
   "cell_type": "code",
   "execution_count": null,
   "metadata": {},
   "outputs": [],
   "source": [
    "import math\n",
    "\n",
    "z = 81\n",
    "\n",
    "print('Enter number for factorial:')\n",
    "f = i\n",
    "i[o-nt(input())\n",
    "\n",
    "# Calling sqrt from math function\n",
    "print(math.sqrt(z))\n",
    "\n",
    "# Calling cos from math function\n",
    "print(math.factorial())\n"
   ]
  },
  {
   "cell_type": "code",
   "execution_count": null,
   "metadata": {},
   "outputs": [],
   "source": [
    "import datetime as dt\n",
    "right_now = dt.datetime.now()\n",
    "print(right_now)"
   ]
  },
  {
   "cell_type": "code",
   "execution_count": null,
   "metadata": {},
   "outputs": [],
   "source": [
    "# import datetime, give it an alias\n",
    "import datetime as dt\n",
    "# import timezone helpers from dateutil\n",
    "from dateutil.tz import gettz\n",
    "\n",
    "# UTC time right now\n",
    "utc = dt.datetime.now(gettz('Etc/UTC'))\n",
    "print(f\"{utc:%a %D %I:%M %p %Z}\")\n",
    "\n",
    "# USA Eastern time\n",
    "est = dt.datetime.now(gettz('America/New_Yori'))\n",
    "print(f\"{est:%A %D %I:%M %p %Z}\")\n",
    "\n",
    "# USA Central time\n",
    "cst = dt.datetime.now(gettz('America/Chicago'))\n",
    "print(f\"{cst:%A %D %I:%M %p %Z}\")\n",
    "\n",
    "# USA Mountain time\n",
    "mst= dt.datetime.now(gettz('America/Boise'))\n",
    "print(f\"{mst:%A %D %I:%M %p %Z}\")\n",
    "\n",
    "pst = dt.datetime.now(gettz('America/Los_Angeles'))\n",
    "print(f\"{pst:%A %D %I:%M %p %Z}\")\n",
    "\n"
   ]
  },
  {
   "cell_type": "code",
   "execution_count": null,
   "metadata": {},
   "outputs": [],
   "source": [
    "# List program example\n",
    "\n",
    "# Define a list of numbers.\n",
    "scores = [88,92,78,90,89,76,54]\n",
    "for score in scores:\n",
    "    print(score)\n",
    "print('Done')"
   ]
  },
  {
   "cell_type": "code",
   "execution_count": null,
   "metadata": {},
   "outputs": [],
   "source": [
    "# Seeing whether a list contains an item\n",
    "\n",
    "students = [\"Balaji\",\"Sujatha\",\"Dhanalaxmi\",\"Aashuthosh\"]\n",
    "\n",
    "# Is Balaji in the list?\n",
    "has_balaji = \"Balaji\" in students\n",
    "print(has_balaji)\n",
    "\n",
    "# Is Sujatha in the list?\n",
    "has_Sujatha = \"Sujatha1\" in students\n",
    "print(has_Sujatha)"
   ]
  },
  {
   "cell_type": "code",
   "execution_count": null,
   "metadata": {},
   "outputs": [],
   "source": [
    "students = [\"Balaji\",\"Sujatha\",\"Dhanalaxmi\",\"Aashuthosh\"]\n",
    "print(len(students))\n"
   ]
  },
  {
   "cell_type": "code",
   "execution_count": null,
   "metadata": {},
   "outputs": [],
   "source": [
    "students = [\"Balaji\",\"Sujatha\",\"Dhanalaxmi\",\"Aashuthosh\",\"Ganesh\"]\n",
    "\n",
    "#Add the name Goober to the list\n",
    "students.append(\"Goober\")\n",
    "\n",
    "new_student = \"Amanda\"\n",
    "#Add whatever name is in new_student to the list\n",
    "students.append(new_student)\n",
    "\n",
    "#Print the entire list\n",
    "print(students)\n"
   ]
  },
  {
   "cell_type": "code",
   "execution_count": null,
   "metadata": {},
   "outputs": [],
   "source": [
    "# Add student if not in the list\n",
    "students = [\"Balaji\",\"Sujatha\",\"Dhanalaxmi\",\"Aashuthosh\",\"Ganesh\",\"Amanda\"]\n",
    "\n",
    "student_name = \"Amanda1\"\n",
    "\n",
    "#Add student_name but only if not already in the list\n",
    "\n",
    "if student_name in students:\n",
    "    print(student_name + \" already in the list\")\n",
    "else:\n",
    "    students.append(student_name)\n",
    "    print(student_name + \" added to the list\")\n",
    "\n",
    "print(students)    \n",
    "\n",
    "\n"
   ]
  },
  {
   "cell_type": "code",
   "execution_count": null,
   "metadata": {},
   "outputs": [],
   "source": [
    "# Changing an item in a list\n",
    "# syntax listname[index] =  newvalue\n",
    "\n",
    "# Create a list of strings(names).\n",
    "students = [\"Balaji\",\"Sujatha\",\"Dhanalaxmi\",\"Aashuthosh\",\"Ganesh\",\"Amanda\"]\n",
    "print(len(students))\n",
    "students[5]=\"Shiva\"\n",
    "\n",
    "print(students)"
   ]
  },
  {
   "cell_type": "code",
   "execution_count": null,
   "metadata": {},
   "outputs": [],
   "source": [
    "# Combining Lists\n",
    "# Syntax original_list.extend(additional_items_list)\n",
    "# Create two lists of Names.\n",
    "\n",
    "list1 = [\"Zara\", \"Lupe\", \"Hong\", \"Alberto\", \"Jake\"]\n",
    "list2 = [\"Huey\", \"Dewey\", \"Louie\", \"Nader\", \"Bubba\"]\n",
    "\n",
    "# Add list2 names to list1.\n",
    "list1.extend(list2)\n",
    "\n",
    "# Print list 1.\n",
    "print(list1)"
   ]
  },
  {
   "cell_type": "code",
   "execution_count": null,
   "metadata": {},
   "outputs": [],
   "source": [
    "# Create a list of strings.\n",
    "letters = [\"A\", \"B\", \"C\", \"D\", \"C\", \"E\", \"C\"]\n",
    "\n",
    "# Remove \"C\" from the list.\n",
    "letters.remove(\"C\")\n",
    "\n",
    "# Show me the list\n",
    "print(letters)\n"
   ]
  },
  {
   "cell_type": "code",
   "execution_count": null,
   "metadata": {},
   "outputs": [],
   "source": [
    "#Create a list of strings.\n",
    "letters = [\"A\", \"B\", \"C\", \"D\", \"E\", \"F\", \"G\"]\n",
    "\n",
    "#Remove the first item.\n",
    "letters.pop(0)\n",
    "\n",
    "# Remove the last item.\n",
    "letters.pop()\n",
    "\n",
    "#Show me the new list\n",
    "print(letters)\n"
   ]
  },
  {
   "cell_type": "code",
   "execution_count": null,
   "metadata": {},
   "outputs": [],
   "source": [
    "#Clearing a list of strings.\n",
    "letters = [\"A\", \"B\", \"C\", \"D\", \"E\", \"F\", \"G\"]\n",
    "\n",
    "# Clear the list of all entries.\n",
    "letters.clear()\n",
    "\n",
    "# Show me the new list\n",
    "print(letters)"
   ]
  },
  {
   "cell_type": "code",
   "execution_count": 55,
   "metadata": {},
   "outputs": [
    {
     "name": "stdout",
     "output_type": "stream",
     "text": "5\n1\nTrue\n$ 29.95\n$ 9.98\n$ 4.95\n$ 79.98\n$ 2.95\n"
    }
   ],
   "source": [
    "# Tuple and who cares?\n",
    "# The Syntax for creating a tuple is the same as the list we have to use parantheses.\n",
    "prices = (29.95, 9.98, 4.95, 79.98, 2.95)\n",
    "# To get a lenght of the prices\n",
    "print(len(prices))\n",
    "\n",
    "# To get the how many time an item appears with the tuple\n",
    "print(prices.count(4.95))\n",
    "\n",
    "# To see whether a value exists or not in a tuple\n",
    "print(4.95 in prices)\n",
    "for price in prices:\n",
    "    print(f\"$ {price:.2f}\")\n",
    "\n",
    "#while(len(prices)>0):\n",
    "#    print(prices)\n"
   ]
  },
  {
   "cell_type": "code",
   "execution_count": 53,
   "metadata": {},
   "outputs": [
    {
     "name": "stdout",
     "output_type": "stream",
     "text": "{1.98, 98.9, 2.5, 1, 74.95, 16.3}\n{1.98, 98.9, 2.5, 1, 74.95, 16.3, 23.4}\n{1.98, 98.9, 2.5, 1, 74.95, 12.3, 16.3, 2323.23, 22.32, 23.4, 222.22}\nPrinting samples:\n$ 1.98\n$ 98.90\n$ 2.50\n$ 1.00\n$ 74.95\n$ 12.30\n$ 16.30\n$ 2323.23\n$ 22.32\n$ 23.40\n$ 222.22\n"
    }
   ],
   "source": [
    "# Working with python set (unorder list)\n",
    "\"\"\"You can't change the order of items in a set either. So you cannot use .sort() to sort the set or .reverse() to reverse its order\"\"\"\n",
    "\n",
    "sample_set = {1.98, 98.9, 74.95, 2.5, 1, 16.3}\n",
    "print(sample_set)\n",
    "\n",
    "sample_set.add(23.4)\n",
    "print(sample_set)\n",
    "\n",
    "\"\"\"You can also add multiple items to a set using .update(). But the items you're adding should be defined as a list in square brackets, as in the following example:\"\"\"\n",
    "sample_set.update([12.3,22.32,2323.23,222.22])\n",
    "print(sample_set)\n",
    "\n",
    "#Looping set using for loop\n",
    "print(\"Printing samples:\")\n",
    "for samples in sample_set:\n",
    "    print(f\"$ {samples:.2f}\")"
   ]
  },
  {
   "cell_type": "code",
   "execution_count": 60,
   "metadata": {},
   "outputs": [
    {
     "name": "stdout",
     "output_type": "stream",
     "text": "{'Balaji': 'Oracle employee', 'Sujatha': 'Wife of Mr.Balaji', 'DhanalaxmiGaru': 'Mother of Mr.Balaji', 'Aashuthosh Shreejan Kumar': 'Son of Mr.Balaji'}\n"
    }
   ],
   "source": [
    "#Creating the data dictionary \n",
    "\n",
    "people ={'Balaji': 'Oracle employee',\n",
    "          'Sujatha': 'Wife of Mr.Balaji',\n",
    "         'DhanalaxmiGaru':'Mother of Mr.Balaji',\n",
    "          'Aashuthosh Shreejan Kumar':'Son of Mr.Balaji'}\n",
    " \n",
    "print(people)         "
   ]
  },
  {
   "cell_type": "code",
   "execution_count": 72,
   "metadata": {},
   "outputs": [
    {
     "name": "stdout",
     "output_type": "stream",
     "text": "welcome to functions in python\n"
    }
   ],
   "source": [
    "# Functions in python\n",
    "\n",
    "def hello(): # practise function\n",
    "    print('welcome to functions in python')\n",
    "\n",
    "hello()\n",
    "\n"
   ]
  },
  {
   "cell_type": "code",
   "execution_count": 87,
   "metadata": {},
   "outputs": [
    {
     "name": "stdout",
     "output_type": "stream",
     "text": "hello Balaji\n"
    }
   ],
   "source": [
    "def hello(x):\n",
    "    print('hello'+ x)\n",
    "\n",
    "this_persone = ' Balaji'\n",
    "hello(this_persone)\n"
   ]
  },
  {
   "cell_type": "code",
   "execution_count": 93,
   "metadata": {},
   "outputs": [
    {
     "name": "stdout",
     "output_type": "stream",
     "text": "HelloBalaji Kolayou mentioned 12/31/2021\nHelloSujatha Kolayou mentioned \nHelloKola Balajiyou mentioned 12/30/2020\n"
    }
   ],
   "source": [
    "def hello(fname,lname,datestring=''):\n",
    "    msg = \"Hello\" + fname + \" \" + lname\n",
    "    msg+= \"you mentioned \" + datestring\n",
    "    print(msg)\n",
    "\n",
    "hello('Balaji','Kola','12/31/2021')\n",
    "hello('Sujatha','Kola')\n",
    "\n",
    "# Pass in other variables\n",
    "appt_date = '12/30/2020'\n",
    "last_name = 'Balaji'\n",
    "first_name = 'Kola'\n",
    "hello(datestring=appt_date,lname=last_name,fname=first_name)"
   ]
  },
  {
   "cell_type": "code",
   "execution_count": 112,
   "metadata": {},
   "outputs": [
    {
     "name": "stdout",
     "output_type": "stream",
     "text": "beeeeeeeeealajikola\n"
    }
   ],
   "source": [
    "#  function to convert anystring to \n",
    "def lowercaseof(anystring):\n",
    "        return anystring.lower()\n",
    "     \n",
    "print(lowercaseof('BEEEEEEEEEalajiKola'))   "
   ]
  },
  {
   "cell_type": "code",
   "execution_count": 115,
   "metadata": {},
   "outputs": [
    {
     "name": "stdout",
     "output_type": "stream",
     "text": "<__main__.Member object at 0x7fb778d00d10>\nBalaji\nKola\n<class '__main__.Member'>\nSuzi\nLakkadasu P Rama Rao\n"
    }
   ],
   "source": [
    "# Define a new class name Member.\n",
    "class Member:\n",
    "    \"\"\" Create a new member. \"\"\"\n",
    "    def __init__(self, uname, fname):\n",
    "        # Define attributes and give them values\n",
    "        self.username = uname\n",
    "        self.fathername = fname\n",
    "# The class ends at the first un-indented line\n",
    "\n",
    "# Creat an instance of the Member class name\n",
    "new_guy = Member('Balaji','Kola')\n",
    "\n",
    "# See what's in the instance, as well as its individual properties\n",
    "print(new_guy)\n",
    "print(new_guy.username)\n",
    "print(new_guy.fathername)\n",
    "print(type(new_guy))\n",
    "\n",
    "# Change new_guy's user name the print values\n",
    "new_guy.username = 'Suzi'\n",
    "new_guy.fathername = 'Lakkadasu P Rama Rao'\n",
    "print(new_guy.username)\n",
    "print(new_guy.fathername)\n"
   ]
  },
  {
   "cell_type": "code",
   "execution_count": 9,
   "metadata": {},
   "outputs": [
    {
     "name": "stdout",
     "output_type": "stream",
     "text": "Kola joined on 07/10/21\n"
    }
   ],
   "source": [
    "# Class with method example\n",
    "import datetime as dt\n",
    "\n",
    "# Define a new class name Member\n",
    "class Member:\n",
    "     \"\"\" Create a new member. \"\"\"\n",
    "     def __init__(self, username, fullname):\n",
    "         self.username = username\n",
    "         self.fullname = fullname\n",
    "         # Default date_joined to today's date.\n",
    "         self.date_joined = dt.date.today()\n",
    "         # Set is active to True initially.\n",
    "         self.is_active = True\n",
    "\n",
    "        # Methods for each instance created(instance methods)\n",
    "\n",
    "        # A method to return a formatted string with showing date joined\n",
    "     def show_datejoined(self):\n",
    "         print('Hello show_datejoined')\n",
    "         return f\"{self.fullname} joined on {self.date_joined:%m/%d/%y}\"\n",
    "\n",
    "# The class ends at the first un-indented line.\n",
    "\n",
    "# Create an instance of the Member class named new_guy\n",
    "new_guy = Member('Balaji','Kola')\n",
    "\n",
    "# Try out the date_joined method.\n",
    "print(new_guy.show_datejoined())\n",
    "\n"
   ]
  },
  {
   "cell_type": "code",
   "execution_count": null,
   "metadata": {},
   "outputs": [],
   "source": []
  }
 ],
 "metadata": {
  "kernelspec": {
   "display_name": "Python 3",
   "language": "python",
   "name": "python3"
  },
  "language_info": {
   "codemirror_mode": {
    "name": "ipython",
    "version": 3
   },
   "file_extension": ".py",
   "mimetype": "text/x-python",
   "name": "python",
   "nbconvert_exporter": "python",
   "pygments_lexer": "ipython3",
   "version": "3.7.10-final"
  }
 },
 "nbformat": 4,
 "nbformat_minor": 4
}